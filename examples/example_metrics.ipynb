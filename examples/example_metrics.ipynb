{
 "cells": [
  {
   "attachments": {},
   "cell_type": "markdown",
   "id": "496de7b1",
   "metadata": {},
   "source": [
    "# Trajectory featurization and metrics calculation"
   ]
  },
  {
   "cell_type": "code",
   "execution_count": 1,
   "id": "6719dbdd",
   "metadata": {},
   "outputs": [],
   "source": [
    "import sys\n",
    "import numpy as np\n",
    "sys.path.append(\"..\")"
   ]
  },
  {
   "cell_type": "code",
   "execution_count": null,
   "id": "3f53ea69",
   "metadata": {},
   "outputs": [],
   "source": []
  },
  {
   "cell_type": "code",
   "execution_count": 2,
   "id": "187cb237",
   "metadata": {},
   "outputs": [],
   "source": [
    "from proteka.metrics.utils  import generate_grid_polymer\n",
    "from proteka.dataset  import Ensemble\n",
    "from proteka.quantity import Quantity\n",
    "from proteka.metrics import StructuralIntegrityMetrics, EnsembleQualityMetrics\n",
    "from proteka.metrics import Featurizer"
   ]
  },
  {
   "attachments": {},
   "cell_type": "markdown",
   "id": "34f8c1fc",
   "metadata": {},
   "source": [
    "### Generate a test ensemble"
   ]
  },
  {
   "attachments": {},
   "cell_type": "markdown",
   "id": "4b5cee6f",
   "metadata": {},
   "source": [
    "for demonstration, will generate a trajectories, that consist from atoms placed on a cubic grid. The bond length is constant and equal to `grid_size`. Self-crossings and clashes are allowed"
   ]
  },
  {
   "cell_type": "code",
   "execution_count": 3,
   "id": "3b9565c3",
   "metadata": {},
   "outputs": [],
   "source": [
    "grid_size = 0.4\n",
    "n_frames = 1000\n",
    "n_atoms = 5\n",
    "traj_target = generate_grid_polymer(n_frames=n_frames, n_atoms=n_atoms, grid_size=grid_size)\n",
    "target = Ensemble(\"CAgrid\", traj_target.top, Quantity(traj_target.xyz, \"nm\"))\n",
    "\n",
    "traj_reference = generate_grid_polymer(n_frames=n_frames, n_atoms=n_atoms, grid_size=grid_size)\n",
    "reference = Ensemble(\"CAgrid\", traj_reference.top, Quantity(traj_reference.xyz, \"nm\"))"
   ]
  },
  {
   "cell_type": "code",
   "execution_count": 4,
   "id": "320a49db",
   "metadata": {},
   "outputs": [
    {
     "data": {
      "text/plain": [
       "['coords', 'top']"
      ]
     },
     "execution_count": 4,
     "metadata": {},
     "output_type": "execute_result"
    }
   ],
   "source": [
    "reference.list_quantities()"
   ]
  },
  {
   "attachments": {},
   "cell_type": "markdown",
   "id": "c5e9a373",
   "metadata": {},
   "source": [
    "To add features to an ensemble, one need to create a Featurizer object and pass it a corresponding ensemble. A new features are calculated and added to the ensemble"
   ]
  },
  {
   "cell_type": "code",
   "execution_count": 5,
   "id": "dc103f44",
   "metadata": {},
   "outputs": [
    {
     "data": {
      "text/plain": [
       "['coords', 'top', 'ca_bonds', 'end2end_distance']"
      ]
     },
     "execution_count": 5,
     "metadata": {},
     "output_type": "execute_result"
    }
   ],
   "source": [
    "### Trajectory featurization\n",
    "featurizer = Featurizer()\n",
    "featurizer.add_ca_bonds(reference)\n",
    "featurizer.add_end2end_distance(reference)\n",
    "reference.list_quantities()"
   ]
  },
  {
   "cell_type": "code",
   "execution_count": 6,
   "id": "d637febb",
   "metadata": {},
   "outputs": [
    {
     "data": {
      "text/plain": [
       "{'N clashes': 574, 'max z-score': 0.4000008, 'rms z-score': 0.40000024}"
      ]
     },
     "execution_count": 6,
     "metadata": {},
     "output_type": "execute_result"
    }
   ],
   "source": [
    "sim = StructuralIntegrityMetrics()\n",
    "sim(target)"
   ]
  },
  {
   "cell_type": "code",
   "execution_count": 7,
   "id": "67b4bcc6",
   "metadata": {},
   "outputs": [],
   "source": [
    "eqm = EnsembleQualityMetrics()"
   ]
  },
  {
   "cell_type": "code",
   "execution_count": 8,
   "id": "41c7955d",
   "metadata": {},
   "outputs": [
    {
     "data": {
      "text/plain": [
       "{'d end2end, KL divergence': 0.0030692221984733852,\n",
       " 'Rg, KL divergence': 0.019374845237777247,\n",
       " 'CA distance, KL divergence': 0.0016552830296087209,\n",
       " 'CA distance, JS divergence': 0.0004123595577088399,\n",
       " 'TICA, KL divergence': 0.05715265526002432,\n",
       " 'TICA, JS divergence': 0.013708165364399415}"
      ]
     },
     "execution_count": 8,
     "metadata": {},
     "output_type": "execute_result"
    }
   ],
   "source": [
    "eqm(target, reference=reference)"
   ]
  },
  {
   "cell_type": "code",
   "execution_count": null,
   "id": "a468cdbe",
   "metadata": {},
   "outputs": [],
   "source": []
  }
 ],
 "metadata": {
  "kernelspec": {
   "display_name": "Python 3",
   "language": "python",
   "name": "python3"
  },
  "language_info": {
   "codemirror_mode": {
    "name": "ipython",
    "version": 3
   },
   "file_extension": ".py",
   "mimetype": "text/x-python",
   "name": "python",
   "nbconvert_exporter": "python",
   "pygments_lexer": "ipython3",
   "version": "3.9.13"
  },
  "vscode": {
   "interpreter": {
    "hash": "d1a2fca007619879e46c1b7a35da9f6db73399dec09aa1d569adb9bbddec460a"
   }
  }
 },
 "nbformat": 4,
 "nbformat_minor": 5
}
