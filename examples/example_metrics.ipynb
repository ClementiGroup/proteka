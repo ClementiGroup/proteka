{
 "cells": [
  {
   "attachments": {},
   "cell_type": "markdown",
   "id": "496de7b1",
   "metadata": {},
   "source": [
    "# Trajectory featurization and metrics calculation"
   ]
  },
  {
   "cell_type": "code",
   "execution_count": 1,
   "id": "6719dbdd",
   "metadata": {},
   "outputs": [],
   "source": [
    "import numpy as np"
   ]
  },
  {
   "cell_type": "code",
   "execution_count": 2,
   "id": "187cb237",
   "metadata": {},
   "outputs": [],
   "source": [
    "from proteka.metrics.utils  import generate_grid_polymer\n",
    "from proteka.dataset  import Ensemble\n",
    "from proteka.quantity import Quantity\n",
    "from proteka.metrics import StructuralIntegrityMetrics, EnsembleQualityMetrics\n",
    "from proteka.metrics import Featurizer"
   ]
  },
  {
   "attachments": {},
   "cell_type": "markdown",
   "id": "34f8c1fc",
   "metadata": {},
   "source": [
    "### Generate a test ensemble"
   ]
  },
  {
   "attachments": {},
   "cell_type": "markdown",
   "id": "4b5cee6f",
   "metadata": {},
   "source": [
    "for demonstration, will generate a trajectories, that consist from atoms placed on a cubic grid. The bond length is constant and equal to `grid_size`. Self-crossings and clashes are allowed"
   ]
  },
  {
   "cell_type": "code",
   "execution_count": 3,
   "id": "3b9565c3",
   "metadata": {},
   "outputs": [],
   "source": [
    "grid_size = 0.4\n",
    "n_frames = 1000\n",
    "n_atoms = 5\n",
    "traj_target = generate_grid_polymer(n_frames=n_frames, n_atoms=n_atoms, grid_size=grid_size)\n",
    "target = Ensemble(\"CAgrid\", traj_target.top, Quantity(traj_target.xyz, \"nm\"))\n",
    "\n",
    "traj_reference = generate_grid_polymer(n_frames=n_frames, n_atoms=n_atoms, grid_size=grid_size)\n",
    "reference = Ensemble(\"CAgrid\", traj_reference.top, Quantity(traj_reference.xyz, \"nm\"))"
   ]
  },
  {
   "cell_type": "code",
   "execution_count": null,
   "id": "320a49db",
   "metadata": {},
   "outputs": [],
   "source": [
    "reference.list_quantities()"
   ]
  },
  {
   "attachments": {},
   "cell_type": "markdown",
   "id": "c5e9a373",
   "metadata": {},
   "source": [
    "To add features to an ensemble, one need to create a Featurizer object and pass it a corresponding ensemble. A new features are calculated and added to the ensemble"
   ]
  },
  {
   "cell_type": "code",
   "execution_count": null,
   "id": "dc103f44",
   "metadata": {},
   "outputs": [],
   "source": [
    "### Trajectory featurization\n",
    "featurizer = Featurizer()\n",
    "featurizer.add_ca_bonds(reference)\n",
    "featurizer.add_end2end_distance(reference)\n",
    "reference.list_quantities()"
   ]
  },
  {
   "cell_type": "code",
   "execution_count": null,
   "id": "d637febb",
   "metadata": {},
   "outputs": [],
   "source": [
    "sim = StructuralIntegrityMetrics()\n",
    "sim(target)"
   ]
  },
  {
   "cell_type": "code",
   "execution_count": 27,
   "id": "b5b44c00",
   "metadata": {},
   "outputs": [],
   "source": [
    "quality_metrics_dict = {\n",
    "    \"features\" : {\n",
    "        \"rg\": {\n",
    "            \"feature_params\": {\"atom_selection\": \"name CA\"},\n",
    "            \"metric_params\": {\"js_div\"  : {\"bins\": 100},\n",
    "                            \"mse_ldist\" : {\"bins\": 100},\n",
    "            },\n",
    "        },\n",
    "    },\n",
    "}"
   ]
  },
  {
   "cell_type": "code",
   "execution_count": 28,
   "id": "67b4bcc6",
   "metadata": {},
   "outputs": [],
   "source": [
    "eqm = EnsembleQualityMetrics(quality_metrics_dict)"
   ]
  },
  {
   "cell_type": "code",
   "execution_count": null,
   "id": "41c7955d",
   "metadata": {},
   "outputs": [],
   "source": [
    "eqm(target, reference=reference)"
   ]
  },
  {
   "cell_type": "code",
   "execution_count": null,
   "id": "a468cdbe",
   "metadata": {},
   "outputs": [],
   "source": [
    "traj_reference"
   ]
  },
  {
   "cell_type": "code",
   "execution_count": null,
   "id": "25387069",
   "metadata": {},
   "outputs": [],
   "source": []
  }
 ],
 "metadata": {
  "kernelspec": {
   "display_name": "mlcg-torch21",
   "language": "python",
   "name": "python3"
  },
  "language_info": {
   "codemirror_mode": {
    "name": "ipython",
    "version": 3
   },
   "file_extension": ".py",
   "mimetype": "text/x-python",
   "name": "python",
   "nbconvert_exporter": "python",
   "pygments_lexer": "ipython3",
   "version": "3.11.6"
  }
 },
 "nbformat": 4,
 "nbformat_minor": 5
}
