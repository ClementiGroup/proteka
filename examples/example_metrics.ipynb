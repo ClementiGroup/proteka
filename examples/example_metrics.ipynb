{
 "cells": [
  {
   "attachments": {},
   "cell_type": "markdown",
   "id": "496de7b1",
   "metadata": {},
   "source": [
    "# Trajectory featurization and metrics calculation"
   ]
  },
  {
   "cell_type": "code",
   "execution_count": 27,
   "id": "6719dbdd",
   "metadata": {},
   "outputs": [],
   "source": [
    "import sys\n",
    "sys.path.append(\"..\")\n",
    "\n",
    "\n",
    "import numpy as np"
   ]
  },
  {
   "cell_type": "code",
   "execution_count": 28,
   "id": "187cb237",
   "metadata": {},
   "outputs": [],
   "source": [
    "from proteka.metrics.utils  import generate_grid_polymer\n",
    "from proteka.dataset  import Ensemble, Quantity\n",
    "from proteka.metrics import StructuralIntegrityMetrics, EnsembleQualityMetrics\n",
    "from proteka.metrics import Featurizer"
   ]
  },
  {
   "attachments": {},
   "cell_type": "markdown",
   "id": "34f8c1fc",
   "metadata": {},
   "source": [
    "### Generate a test ensemble"
   ]
  },
  {
   "attachments": {},
   "cell_type": "markdown",
   "id": "4b5cee6f",
   "metadata": {},
   "source": [
    "for demonstration, will generate a trajectories, that consist from atoms placed on a cubic grid. The bond length is constant and equal to `grid_size`. Self-crossings and clashes are allowed"
   ]
  },
  {
   "cell_type": "code",
   "execution_count": 31,
   "id": "3b9565c3",
   "metadata": {},
   "outputs": [],
   "source": [
    "grid_size = 0.38\n",
    "n_frames = 1000\n",
    "n_atoms = 5\n",
    "traj_target = generate_grid_polymer(n_frames=n_frames, n_atoms=n_atoms, grid_size=grid_size)\n",
    "target = Ensemble(\"CAgrid\", traj_target.top, Quantity(traj_target.xyz, \"nm\"))\n",
    "\n",
    "traj_reference = generate_grid_polymer(n_frames=n_frames, n_atoms=n_atoms, grid_size=grid_size)\n",
    "reference = Ensemble(\"CAgrid\", traj_reference.top, Quantity(traj_reference.xyz, \"nm\"))"
   ]
  },
  {
   "cell_type": "code",
   "execution_count": 32,
   "id": "320a49db",
   "metadata": {},
   "outputs": [
    {
     "data": {
      "text/plain": [
       "['coords', 'top']"
      ]
     },
     "execution_count": 32,
     "metadata": {},
     "output_type": "execute_result"
    }
   ],
   "source": [
    "reference.list_quantities()"
   ]
  },
  {
   "attachments": {},
   "cell_type": "markdown",
   "id": "c5e9a373",
   "metadata": {},
   "source": [
    "To add features to an ensemble, one need to create a Featurizer object and pass it a corresponding ensemble. A new features are calculated and added to the ensemble"
   ]
  },
  {
   "cell_type": "code",
   "execution_count": 33,
   "id": "dc103f44",
   "metadata": {},
   "outputs": [
    {
     "data": {
      "text/plain": [
       "['coords', 'top', 'ca_ca_pseudobonds', 'ca_ca_end2end_distance']"
      ]
     },
     "execution_count": 33,
     "metadata": {},
     "output_type": "execute_result"
    }
   ],
   "source": [
    "### Trajectory featurization\n",
    "featurizer = Featurizer(reference)\n",
    "featurizer.add_ca_bonds()\n",
    "featurizer.add_end2end_distance()\n",
    "reference.list_quantities()"
   ]
  },
  {
   "cell_type": "code",
   "execution_count": 34,
   "id": "d637febb",
   "metadata": {},
   "outputs": [
    {
     "data": {
      "text/plain": [
       "{'N clashes': 5417, 'max z-score': 0.0, 'rms z-score': 0.0}"
      ]
     },
     "execution_count": 34,
     "metadata": {},
     "output_type": "execute_result"
    }
   ],
   "source": [
    "sim = StructuralIntegrityMetrics()\n",
    "# TO DO: implement selection of metrics to compute\n",
    "sim(target)"
   ]
  },
  {
   "cell_type": "markdown",
   "id": "6c834ad1",
   "metadata": {},
   "source": []
  },
  {
   "cell_type": "code",
   "execution_count": 35,
   "id": "67b4bcc6",
   "metadata": {},
   "outputs": [],
   "source": [
    "eqm = EnsembleQualityMetrics()"
   ]
  },
  {
   "cell_type": "code",
   "execution_count": 36,
   "id": "41c7955d",
   "metadata": {},
   "outputs": [
    {
     "data": {
      "text/plain": [
       "{'d end2end, KL divergence': 0.008117496638929756}"
      ]
     },
     "execution_count": 36,
     "metadata": {},
     "output_type": "execute_result"
    }
   ],
   "source": [
    "eqm(target, reference=reference)"
   ]
  },
  {
   "cell_type": "code",
   "execution_count": null,
   "id": "87fc1b30",
   "metadata": {},
   "outputs": [],
   "source": []
  }
 ],
 "metadata": {
  "kernelspec": {
   "display_name": "Python 3 (ipykernel)",
   "language": "python",
   "name": "python3"
  },
  "language_info": {
   "codemirror_mode": {
    "name": "ipython",
    "version": 3
   },
   "file_extension": ".py",
   "mimetype": "text/x-python",
   "name": "python",
   "nbconvert_exporter": "python",
   "pygments_lexer": "ipython3",
   "version": "3.9.13"
  }
 },
 "nbformat": 4,
 "nbformat_minor": 5
}
