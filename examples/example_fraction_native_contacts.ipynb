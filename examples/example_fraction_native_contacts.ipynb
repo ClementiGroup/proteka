{
 "cells": [
  {
   "cell_type": "code",
   "execution_count": 1,
   "metadata": {},
   "outputs": [],
   "source": [
    "from glob import glob\n",
    "import mdtraj as md\n",
    "import numpy as np\n",
    "from pathlib import Path\n",
    "\n",
    "import proteka\n",
    "from proteka.metrics import Featurizer"
   ]
  },
  {
   "cell_type": "code",
   "execution_count": 2,
   "metadata": {},
   "outputs": [],
   "source": [
    "cln_folded_ref = md.load_pdb(\"./example_dataset_files/cln_folded.pdb\")"
   ]
  },
  {
   "cell_type": "code",
   "execution_count": null,
   "metadata": {},
   "outputs": [],
   "source": [
    "# define the apriori-known timestep of the dcd files 5 ns between frames\n",
    "ts = 5\n",
    "traj_pattern = \"./example_dataset_files/cln_amber_300K_mini/*.dcd\"\n",
    "dcd_path_list = glob(traj_pattern)\n",
    "# sort the listed dcd files\n",
    "dcd_path_list = sorted(dcd_path_list)\n",
    "print(f\"Found {len(dcd_path_list)} trajectories at pattern {traj_pattern}\")"
   ]
  },
  {
   "cell_type": "code",
   "execution_count": 4,
   "metadata": {},
   "outputs": [],
   "source": [
    "traj_dict = {}\n",
    "for dcd_file in dcd_path_list:\n",
    "    dcd_path = Path(dcd_file)\n",
    "    traj = md.load_dcd(dcd_path,top=dcd_path.with_suffix(\".pdb\"))\n",
    "    dic_name = dcd_path.stem\n",
    "    traj_dict[dic_name] = traj"
   ]
  },
  {
   "cell_type": "code",
   "execution_count": 5,
   "metadata": {},
   "outputs": [],
   "source": [
    "traj_slices = {}\n",
    "frame_count = 0\n",
    "for name,traj in traj_dict.items():\n",
    "    curr_frames = traj.n_frames\n",
    "    curr_slice = slice(frame_count,frame_count+curr_frames)\n",
    "    traj_slices[name] = curr_slice\n",
    "    frame_count += curr_frames"
   ]
  },
  {
   "cell_type": "code",
   "execution_count": 6,
   "metadata": {},
   "outputs": [],
   "source": [
    "single_traj = md.join([traj for m_traj in traj_dict.items()])\n",
    "ens = proteka.Ensemble.from_mdtraj_trj(\"cln-amber-300K\",single_traj,trajectory_slices=traj_slices)"
   ]
  },
  {
   "cell_type": "code",
   "execution_count": null,
   "metadata": {},
   "outputs": [],
   "source": [
    "feat = Featurizer()\n",
    "feat.add_fraction_native_contacts(ens, cln_folded_ref, \n",
    "                                rep_atoms=[\"CA\"], \n",
    "                                lam=1.5, \n",
    "                                beta=10, \n",
    "                                atom_selection=\"all and not element H\")\n",
    "feat.add_rmsd(ens, cln_folded_ref, atom_selection=\"name CA\")\n",
    "\n"
   ]
  },
  {
   "cell_type": "code",
   "execution_count": 8,
   "metadata": {},
   "outputs": [],
   "source": [
    "# we will make some plots using matplotlib, but this should be installed separately as its not part of the requirements.\n",
    "import matplotlib.pyplot as plt"
   ]
  },
  {
   "cell_type": "code",
   "execution_count": null,
   "metadata": {},
   "outputs": [],
   "source": [
    "fig,axs = plt.subplots(ncols=1,nrows=ens.n_trjs,figsize=(10,8),sharex=True)\n",
    "i = 0\n",
    "for name, traj_slice in ens.trajectories.items():\n",
    "    rmsd_trace = ens.get_quantity(\"rmsd\")[traj_slice]\n",
    "    q_trace = ens.get_quantity(\"fraction_native_contacts\")[traj_slice]\n",
    "    ax = axs.flatten()[i]\n",
    "    xs = np.arange(len(rmsd_trace))*ts\n",
    "    ax.plot(xs,rmsd_trace,\n",
    "        \"salmon\",\n",
    "        label=\"RMSD\",\n",
    "        alpha=0.5,\n",
    "    )\n",
    "    ax.set_title(f\"{name}\", fontsize=20)\n",
    "    if i == ens.n_trjs-1:\n",
    "        ax.set_xlabel(f\"Simulation time (ns)\", fontsize=16)\n",
    "    ax.set_ylabel(\"RMSD (nm)\", fontsize=16)                                                                                                                                    \n",
    "    ax.set_ylim(0, 2.5)\n",
    "    ax.legend(loc=\"upper right\")\n",
    "    ax.grid()\n",
    "    ax.tick_params(axis=\"both\", which=\"major\", labelsize=12)\n",
    "\n",
    "    ax2 = ax.twinx()\n",
    "    ax2.plot(xs, q_trace,\n",
    "        \"mediumslateblue\",\n",
    "        label=\"Q\",\n",
    "        alpha=0.5,\n",
    "    )\n",
    "    ax2.set_ylabel(\"Q\", fontsize=16)\n",
    "\n",
    "    ax2.set_ylim(0, 1)\n",
    "    ax2.legend(loc=\"lower right\")\n",
    "    i += 1\n",
    "\n",
    "plt.show()"
   ]
  },
  {
   "cell_type": "code",
   "execution_count": null,
   "metadata": {},
   "outputs": [],
   "source": []
  }
 ],
 "metadata": {
  "kernelspec": {
   "display_name": "mlcg-torch21",
   "language": "python",
   "name": "python3"
  },
  "language_info": {
   "codemirror_mode": {
    "name": "ipython",
    "version": 3
   },
   "file_extension": ".py",
   "mimetype": "text/x-python",
   "name": "python",
   "nbconvert_exporter": "python",
   "pygments_lexer": "ipython3",
   "version": "3.11.6"
  }
 },
 "nbformat": 4,
 "nbformat_minor": 2
}
