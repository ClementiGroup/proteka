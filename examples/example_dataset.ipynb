{
 "cells": [
  {
   "cell_type": "code",
   "execution_count": null,
   "id": "6719dbdd",
   "metadata": {},
   "outputs": [],
   "source": [
    "import sys\n",
    "sys.path.append(\"..\")\n",
    "import proteka"
   ]
  },
  {
   "cell_type": "code",
   "execution_count": null,
   "id": "54605c68",
   "metadata": {},
   "outputs": [],
   "source": [
    "import numpy as np\n",
    "import mdtraj as md"
   ]
  },
  {
   "cell_type": "code",
   "execution_count": null,
   "id": "66af79e0",
   "metadata": {},
   "outputs": [],
   "source": [
    "# ala2 test data\n",
    "ala2_top = md.load_topology(\"./example_dataset_files/ala2_all_atom.pdb\")\n",
    "dts = np.load(\"./example_dataset_files/ala2_all_atom.npz\")\n",
    "coords_raw = dts[\"coords\"] # unit: A\n",
    "forces_raw = dts[\"forces\"] # unit: kcal/mol/A\n",
    "time_raw = np.arange(2000) * 500 # unit: ps"
   ]
  },
  {
   "cell_type": "code",
   "execution_count": null,
   "id": "187cb237",
   "metadata": {},
   "outputs": [],
   "source": [
    "from proteka.quantity import Quantity # for wrapping arrays with non-standard units"
   ]
  },
  {
   "cell_type": "markdown",
   "id": "34f8c1fc",
   "metadata": {},
   "source": [
    "## Simple use case:"
   ]
  },
  {
   "cell_type": "code",
   "execution_count": null,
   "id": "eb744742",
   "metadata": {},
   "outputs": [],
   "source": [
    "# init an Ensemble object\n",
    "## with quantities and metadata\n",
    "ens = proteka.dataset.Ensemble(\"ala2\", ala2_top, Quantity(coords_raw, \"A\"), \n",
    "                               quantities={\"forces\": Quantity(forces_raw, \"kcal/mol/A\")},\n",
    "                               metadata={\"forcefield\": \"AMBER ff99SB-ILDN\"})"
   ]
  },
  {
   "cell_type": "code",
   "execution_count": null,
   "id": "70eeebc6",
   "metadata": {},
   "outputs": [],
   "source": [
    "# __repr__\n",
    "ens, ens.list_quantities()"
   ]
  },
  {
   "cell_type": "code",
   "execution_count": null,
   "id": "25a65b03",
   "metadata": {},
   "outputs": [],
   "source": [
    "# topology\n",
    "ens.top"
   ]
  },
  {
   "cell_type": "code",
   "execution_count": null,
   "id": "5d73ba37",
   "metadata": {},
   "outputs": [],
   "source": [
    "# other stuff\n",
    "ens.n_frames, ens.n_atoms"
   ]
  },
  {
   "cell_type": "code",
   "execution_count": null,
   "id": "3a75f347",
   "metadata": {},
   "outputs": [],
   "source": [
    "# retrieve coords and forces\n",
    "print(ens.coords.shape, ens.get_unit(\"coords\"))\n",
    "print(ens.forces.shape, ens.get_unit(\"forces\"))"
   ]
  },
  {
   "cell_type": "markdown",
   "id": "9a9d99fd",
   "metadata": {},
   "source": [
    "## Get `mdtraj.Trajectory`"
   ]
  },
  {
   "cell_type": "code",
   "execution_count": null,
   "id": "67a3dae1",
   "metadata": {},
   "outputs": [],
   "source": [
    "# get a mdtraj.Trajectory for all data available\n",
    "ens.get_all_in_one_mdtraj()"
   ]
  },
  {
   "cell_type": "code",
   "execution_count": null,
   "id": "ed61614a",
   "metadata": {},
   "outputs": [],
   "source": [
    "## when unit cell information was saved, the mdtraj will automatically include them\n",
    "ens.cell_lengths = np.repeat([2.7222, 2.7222, 2.7222], 2000).reshape([2000, 3]).astype(np.float32)\n",
    "ens.cell_angles = np.repeat(90.0, 6000).reshape([2000, 3]).astype(np.float32)\n",
    "t = ens.get_all_in_one_mdtraj()\n",
    "t.unitcell_vectors[1]"
   ]
  },
  {
   "cell_type": "code",
   "execution_count": null,
   "id": "38c3e4c4",
   "metadata": {},
   "outputs": [],
   "source": [
    "# when data comes from multiple trajectories\n",
    "ens.register_trjs({\n",
    "    \"trj0\": slice(0, 500),\n",
    "    \"trj1\": slice(500, 1000),\n",
    "    \"trj2\": slice(1000, 1500),\n",
    "    \"trj3\": slice(1500, 2000),\n",
    "})\n",
    "ens.n_trjs, ens.trj_n_frames\n",
    "# this info will be tracked by HDF5 file automatically, just as other `Quantity`s"
   ]
  },
  {
   "cell_type": "code",
   "execution_count": null,
   "id": "3b824df0",
   "metadata": {},
   "outputs": [],
   "source": [
    "## independent trajectories can be retrieved\n",
    "ens.get_mdtrajs()"
   ]
  },
  {
   "cell_type": "markdown",
   "id": "5379fcc3",
   "metadata": {},
   "source": [
    "## Unit and Quantity"
   ]
  },
  {
   "cell_type": "code",
   "execution_count": null,
   "id": "bbd55ae4",
   "metadata": {},
   "outputs": [],
   "source": [
    "# unit system: [L]ength, [M]ass, [T]ime and [E]nergy\n",
    "print(\"Unit system:\", ens.unit_system)\n",
    "print()\n",
    "# they will be used for default unit of the builtin quantities (also for storage)\n",
    "print(\"Builtin quantities (shape and units):\")\n",
    "ens.unit_system.builtin_quantities"
   ]
  },
  {
   "cell_type": "code",
   "execution_count": null,
   "id": "6856a975",
   "metadata": {},
   "outputs": [],
   "source": [
    "# Init a builtin quantity with builtin quantity\n",
    "print(\"Builtin unit for velocities:\", ens.get_unit(\"velocities\"))\n",
    "velos_raw = np.random.rand(2000, 22, 3) * 100. # assume they are in unit A/ps\n",
    "## it can be as simple as this\n",
    "ens.velocities = Quantity(velos_raw, \"A/ps\")"
   ]
  },
  {
   "cell_type": "code",
   "execution_count": null,
   "id": "5f672e67",
   "metadata": {},
   "outputs": [],
   "source": [
    "## or when you are sure the unit is compatible\n",
    "ens.velocities = velos_raw / 10."
   ]
  },
  {
   "cell_type": "code",
   "execution_count": null,
   "id": "afd012f0",
   "metadata": {},
   "outputs": [],
   "source": [
    "# Retrieve a Quantity\n",
    "forces_q = ens[\"forces\"]\n",
    "forces_q"
   ]
  },
  {
   "cell_type": "code",
   "execution_count": null,
   "id": "3dc3e672",
   "metadata": {},
   "outputs": [],
   "source": [
    "## this is useful when we need the value in another unit instead of the storage one\n",
    "force_q_in_original_unit = forces_q.in_unit_of(\"kcal/mol/A\")\n",
    "assert np.allclose(force_q_in_original_unit, forces_raw)"
   ]
  },
  {
   "cell_type": "code",
   "execution_count": null,
   "id": "828df64b",
   "metadata": {},
   "outputs": [],
   "source": [
    "# special Quantity: strings\n",
    "ens.some_string = \"Hello, World!\"\n",
    "print(\"Type:\", ens[\"some_string\"])\n",
    "print(\"Content:\", ens.some_string)"
   ]
  },
  {
   "cell_type": "code",
   "execution_count": null,
   "id": "a6d7fc0c",
   "metadata": {},
   "outputs": [],
   "source": [
    "## insider note: `top` and `trjs` are handled as special Quantity of serialized JSON strings"
   ]
  },
  {
   "cell_type": "markdown",
   "id": "c8939dd9",
   "metadata": {},
   "source": [
    "## Metadata"
   ]
  },
  {
   "cell_type": "code",
   "execution_count": null,
   "id": "8426f7f1",
   "metadata": {},
   "outputs": [],
   "source": [
    "# metadata\n",
    "# limited by the HDF5 format, max 64KB!\n",
    "# best practice: using pure string or serialized JSONs, etc\n",
    "ens.metadata[\"temperature_in_K\"] = 300\n",
    "ens.metadata"
   ]
  },
  {
   "cell_type": "markdown",
   "id": "a275a691",
   "metadata": {},
   "source": [
    "## Save to and load from a HDF5 file"
   ]
  },
  {
   "cell_type": "code",
   "execution_count": null,
   "id": "df33a77a",
   "metadata": {},
   "outputs": [],
   "source": [
    "# write everything so far to a HDF5 group\n",
    "import h5py\n",
    "with h5py.File(\"./example_dataset_files/temp_storage.h5\", \"w\") as fo:\n",
    "    ens.write_to_hdf5(fo, ens.name)"
   ]
  },
  {
   "cell_type": "code",
   "execution_count": null,
   "id": "da96a338",
   "metadata": {},
   "outputs": [],
   "source": [
    "# read it back\n",
    "with h5py.File(\"./example_dataset_files/temp_storage.h5\", \"r\") as fo:\n",
    "    ens2 = proteka.dataset.Ensemble.from_hdf5(fo[\"ala2\"])"
   ]
  },
  {
   "cell_type": "code",
   "execution_count": null,
   "id": "fbb29575",
   "metadata": {},
   "outputs": [],
   "source": [
    "# do your own checks to see whether everything is in place\n",
    "ens2, ens2[\"coords\"]"
   ]
  },
  {
   "cell_type": "code",
   "execution_count": null,
   "id": "d66b1a89",
   "metadata": {},
   "outputs": [],
   "source": [
    "# special case: unit conversion is automatic, \n",
    "# when the desired unit system is not the same as the one for storage\n",
    "with h5py.File(\"./example_dataset_files/temp_storage.h5\", \"r\") as fo:\n",
    "    ens3 = proteka.dataset.Ensemble.from_hdf5(fo[\"ala2\"],\n",
    "                                              unit_system='A-g/mol-ps-kcal/mol')\n",
    "assert np.allclose(ens3.forces, forces_raw)"
   ]
  },
  {
   "cell_type": "code",
   "execution_count": null,
   "id": "19365d05",
   "metadata": {},
   "outputs": [],
   "source": [
    "# cleanup\n",
    "import os\n",
    "os.unlink(\"./example_dataset_files/temp_storage.h5\")"
   ]
  },
  {
   "cell_type": "code",
   "execution_count": null,
   "id": "39c56288",
   "metadata": {},
   "outputs": [],
   "source": []
  }
 ],
 "metadata": {
  "kernelspec": {
   "display_name": "Python 3 (ipykernel)",
   "language": "python",
   "name": "python3"
  },
  "language_info": {
   "codemirror_mode": {
    "name": "ipython",
    "version": 3
   },
   "file_extension": ".py",
   "mimetype": "text/x-python",
   "name": "python",
   "nbconvert_exporter": "python",
   "pygments_lexer": "ipython3",
   "version": "3.9.16"
  }
 },
 "nbformat": 4,
 "nbformat_minor": 5
}
